{
 "cells": [
  {
   "cell_type": "code",
   "execution_count": 2,
   "metadata": {},
   "outputs": [],
   "source": [
    "%load_ext autoreload\n",
    "%autoreload 2\n",
    "import sys\n",
    "sys.path.append(\"..\")"
   ]
  },
  {
   "cell_type": "code",
   "execution_count": 5,
   "metadata": {},
   "outputs": [],
   "source": [
    "import torch\n",
    "from torch import nn\n",
    "import numpy as np\n",
    "\n",
    "X = np.random.rand(5, 200, 3).astype('float32')\n",
    "device = torch.device('cuda' if torch.cuda.is_available() else 'cpu')\n",
    "X = torch.tensor(X).to(device)"
   ]
  },
  {
   "cell_type": "code",
   "execution_count": 9,
   "metadata": {},
   "outputs": [
    {
     "data": {
      "text/plain": [
       "torch.Size([5, 64, 1000])"
      ]
     },
     "execution_count": 9,
     "metadata": {},
     "output_type": "execute_result"
    }
   ],
   "source": [
    "conv1d = nn.Conv1d(3, 64, 1)\n",
    "\n",
    "conv1d(X.permute(0, 2, 1)).shape"
   ]
  },
  {
   "cell_type": "code",
   "execution_count": 12,
   "metadata": {},
   "outputs": [
    {
     "data": {
      "text/plain": [
       "tensor([[-1.1377e+00,  3.2171e-01, -1.8643e-01,  ...,  2.1979e-01,\n",
       "         -7.7203e-01,  4.8006e-01],\n",
       "        [-7.5816e-01, -5.3893e-02,  4.4242e-02,  ..., -1.1657e-01,\n",
       "         -5.1980e-01,  1.1754e-01],\n",
       "        [-9.3114e-01,  4.8295e-02,  1.4188e-02,  ...,  4.6885e-02,\n",
       "         -6.4866e-01,  2.6368e-01],\n",
       "        ...,\n",
       "        [-1.3782e+00,  2.8082e-01,  1.9597e-01,  ...,  1.4528e-01,\n",
       "         -8.8960e-01,  5.6890e-01],\n",
       "        [-9.3902e-01,  1.6491e-01, -2.1346e-04,  ..., -1.2089e-01,\n",
       "         -5.8445e-01,  2.7057e-01],\n",
       "        [-1.1587e+00,  2.3780e-01,  1.2437e-01,  ..., -5.2223e-02,\n",
       "         -7.1544e-01,  4.1186e-01]], grad_fn=<AddmmBackward0>)"
      ]
     },
     "execution_count": 12,
     "metadata": {},
     "output_type": "execute_result"
    }
   ],
   "source": [
    "linear1 = nn.Linear(3,64)\n",
    "X = np.random.rand(200, 3).astype('float32')\n",
    "device = torch.device('cuda' if torch.cuda.is_available() else 'cpu')\n",
    "X = torch.tensor(X).to(device)\n",
    "linear1(X)"
   ]
  }
 ],
 "metadata": {
  "kernelspec": {
   "display_name": "pytorch-cpu",
   "language": "python",
   "name": "python3"
  },
  "language_info": {
   "codemirror_mode": {
    "name": "ipython",
    "version": 3
   },
   "file_extension": ".py",
   "mimetype": "text/x-python",
   "name": "python",
   "nbconvert_exporter": "python",
   "pygments_lexer": "ipython3",
   "version": "3.8.18"
  },
  "orig_nbformat": 4
 },
 "nbformat": 4,
 "nbformat_minor": 2
}
